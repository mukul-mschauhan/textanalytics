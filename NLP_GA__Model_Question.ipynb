{
  "cells": [
    {
      "cell_type": "markdown",
      "metadata": {
        "id": "view-in-github",
        "colab_type": "text"
      },
      "source": [
        "<a href=\"https://colab.research.google.com/github/mukul-mschauhan/textanalytics/blob/master/NLP_GA__Model_Question.ipynb\" target=\"_parent\"><img src=\"https://colab.research.google.com/assets/colab-badge.svg\" alt=\"Open In Colab\"/></a>"
      ]
    },
    {
      "cell_type": "markdown",
      "metadata": {
        "id": "cx-WySk9j73X"
      },
      "source": [
        "## NLP GA Model set\n",
        "### Total Marks 40\n",
        "### Note:  This is  Model GA paper is for learners reference.  The Question type,  topics, order, marking and specification may diifer in actual  GA exam."
      ]
    },
    {
      "cell_type": "code",
      "execution_count": 1,
      "metadata": {
        "id": "tTrsUAMlj73a",
        "outputId": "34a50fea-2ae7-4be8-8565-c4f0b2aae430",
        "colab": {
          "base_uri": "https://localhost:8080/"
        }
      },
      "outputs": [
        {
          "output_type": "stream",
          "name": "stderr",
          "text": [
            "[nltk_data] Downloading package wordnet to /root/nltk_data...\n",
            "[nltk_data] Downloading package punkt to /root/nltk_data...\n",
            "[nltk_data]   Unzipping tokenizers/punkt.zip.\n",
            "[nltk_data] Downloading package stopwords to /root/nltk_data...\n",
            "[nltk_data]   Unzipping corpora/stopwords.zip.\n"
          ]
        }
      ],
      "source": [
        "from six import string_types\n",
        "import pandas as pd\n",
        "import numpy as np\n",
        "from nltk.tokenize import RegexpTokenizer\n",
        "import nltk\n",
        "import pandas as pd\n",
        "import string\n",
        "from nltk.corpus import stopwords\n",
        "from nltk.tokenize import word_tokenize\n",
        "from nltk.stem import LancasterStemmer\n",
        "\n",
        "lancaster=LancasterStemmer()\n",
        "nltk.download('wordnet')\n",
        "nltk.download('punkt')\n",
        "nltk.download('stopwords')\n",
        "\n",
        "from nltk.stem.wordnet import WordNetLemmatizer\n",
        "from textblob import TextBlob\n",
        "import matplotlib.pyplot as plt\n",
        "\n",
        "from sklearn.feature_extraction.text import TfidfVectorizer\n",
        "\n",
        "import requests\n",
        "from bs4 import BeautifulSoup\n",
        "import pandas as pd\n",
        "lmtzr = WordNetLemmatizer()"
      ]
    },
    {
      "cell_type": "markdown",
      "metadata": {
        "id": "k9gz7wbcj73c"
      },
      "source": [
        "## Question  1. ( Marks 5)\n",
        "### 1.What is a Document Term Matrix (CountVectorizer)? Explain with an example.Write a drawbacks of Document Term Matrix?(Marks 1 + 2 + 1)"
      ]
    },
    {
      "cell_type": "markdown",
      "source": [
        "### Why do we need this?\n",
        "\n",
        "* It converts the text into numerical representations.\n",
        "\n",
        "* we need this because most of the ML models prefer data in the form of numbers. So, my X and y should be in the form of numbers.\n",
        "\n",
        "* What if the sentiment is \"Positive\", \"Negative\" or \"neutral\"...I need to convert this into 1, -1 or 0 for the model to understand the target and build predictions\n",
        "\n",
        "* That converts the text into a **Sparse Matrix** (One Hot Encoding).\n",
        "* The text is splitted into tokens and then each token is taken into consideration to convert them into **identity matrix**.\n",
        "\n",
        "### An example of Count Vectorizer\n",
        "\n",
        "text = [\"The\", \"cat\", \"sits\", \"on\", \"the\", \"mat\"]\n",
        "\n",
        "from sklearn.feature_extraction.text import CountVectorizer\n",
        "\n",
        "cv =CountVectorizer(min_df = 5,stop_words = True)\n",
        "\n",
        "cv.fit_transform(text)\n",
        "\n",
        "Note: It will generate the Sparse Matrix consisting of all the words except Stop Words...\n",
        "\n",
        "#### Disadvantages\n",
        "\n",
        "* Lack of Semantic Understanding\n",
        "* Large Vocab Size\n",
        "* Irrevalant Words Infusion..\n",
        "* **Words dont have any weights**\n",
        "* Smaller Dataset.\n",
        "* Difficult to train the Model and model will suffer from **Curse of Dimensions**\n",
        "* Word Order is missing or does not account for the sequence of Words.\n",
        "\n"
      ],
      "metadata": {
        "id": "H6czSbl-wWJC"
      }
    },
    {
      "cell_type": "code",
      "execution_count": 6,
      "metadata": {
        "id": "wmWZEk6yj73d",
        "colab": {
          "base_uri": "https://localhost:8080/"
        },
        "outputId": "fc9ff9f7-eff3-4c70-f93e-1b1533fbf8bf"
      },
      "outputs": [
        {
          "output_type": "execute_result",
          "data": {
            "text/plain": [
              "array([[0, 0, 0],\n",
              "       [1, 0, 0],\n",
              "       [0, 0, 1],\n",
              "       [0, 0, 0],\n",
              "       [0, 0, 0],\n",
              "       [0, 1, 0]])"
            ]
          },
          "metadata": {},
          "execution_count": 6
        }
      ],
      "source": [
        "text = [\"The\", \"cat\", \"sits\", \"on\", \"the\", \"mat\"]\n",
        "\n",
        "from sklearn.feature_extraction.text import CountVectorizer\n",
        "\n",
        "cv =CountVectorizer(stop_words= \"english\")\n",
        "\n",
        "cv.fit_transform(text).toarray()"
      ]
    },
    {
      "cell_type": "markdown",
      "metadata": {
        "id": "zixRAJCdj73d"
      },
      "source": [
        ""
      ]
    },
    {
      "cell_type": "markdown",
      "metadata": {
        "id": "-7vbyrk0mDUD"
      },
      "source": [
        "## Question 2.  (Marks : 10)\n",
        "### Use the data_set.csv data. The dataset contains review of a product from an online-shopping platform. Consider the data and perform the following tasks"
      ]
    },
    {
      "cell_type": "code",
      "execution_count": 7,
      "metadata": {
        "id": "qUj2OuxmrQ3a",
        "outputId": "4dea7848-f87b-49ec-9f69-7a6ee32c9805",
        "scrolled": true,
        "colab": {
          "base_uri": "https://localhost:8080/",
          "height": 206
        }
      },
      "outputs": [
        {
          "output_type": "execute_result",
          "data": {
            "text/plain": [
              "                                         review_text\n",
              "0  This is my 1st ever Echo 🥺 I'm amazed by its c...\n",
              "1  Excellent product, super quality. It capable t...\n",
              "2  So it is my first Echo Dot.It definitely looks...\n",
              "3  I was expecting more as it's 4th gen... But di...\n",
              "4  Love the new revamped version of Alexa.  All y..."
            ],
            "text/html": [
              "\n",
              "  <div id=\"df-19b521c9-3bd2-440d-91e0-caa4e9dcb9c6\" class=\"colab-df-container\">\n",
              "    <div>\n",
              "<style scoped>\n",
              "    .dataframe tbody tr th:only-of-type {\n",
              "        vertical-align: middle;\n",
              "    }\n",
              "\n",
              "    .dataframe tbody tr th {\n",
              "        vertical-align: top;\n",
              "    }\n",
              "\n",
              "    .dataframe thead th {\n",
              "        text-align: right;\n",
              "    }\n",
              "</style>\n",
              "<table border=\"1\" class=\"dataframe\">\n",
              "  <thead>\n",
              "    <tr style=\"text-align: right;\">\n",
              "      <th></th>\n",
              "      <th>review_text</th>\n",
              "    </tr>\n",
              "  </thead>\n",
              "  <tbody>\n",
              "    <tr>\n",
              "      <th>0</th>\n",
              "      <td>This is my 1st ever Echo 🥺 I'm amazed by its c...</td>\n",
              "    </tr>\n",
              "    <tr>\n",
              "      <th>1</th>\n",
              "      <td>Excellent product, super quality. It capable t...</td>\n",
              "    </tr>\n",
              "    <tr>\n",
              "      <th>2</th>\n",
              "      <td>So it is my first Echo Dot.It definitely looks...</td>\n",
              "    </tr>\n",
              "    <tr>\n",
              "      <th>3</th>\n",
              "      <td>I was expecting more as it's 4th gen... But di...</td>\n",
              "    </tr>\n",
              "    <tr>\n",
              "      <th>4</th>\n",
              "      <td>Love the new revamped version of Alexa.  All y...</td>\n",
              "    </tr>\n",
              "  </tbody>\n",
              "</table>\n",
              "</div>\n",
              "    <div class=\"colab-df-buttons\">\n",
              "\n",
              "  <div class=\"colab-df-container\">\n",
              "    <button class=\"colab-df-convert\" onclick=\"convertToInteractive('df-19b521c9-3bd2-440d-91e0-caa4e9dcb9c6')\"\n",
              "            title=\"Convert this dataframe to an interactive table.\"\n",
              "            style=\"display:none;\">\n",
              "\n",
              "  <svg xmlns=\"http://www.w3.org/2000/svg\" height=\"24px\" viewBox=\"0 -960 960 960\">\n",
              "    <path d=\"M120-120v-720h720v720H120Zm60-500h600v-160H180v160Zm220 220h160v-160H400v160Zm0 220h160v-160H400v160ZM180-400h160v-160H180v160Zm440 0h160v-160H620v160ZM180-180h160v-160H180v160Zm440 0h160v-160H620v160Z\"/>\n",
              "  </svg>\n",
              "    </button>\n",
              "\n",
              "  <style>\n",
              "    .colab-df-container {\n",
              "      display:flex;\n",
              "      gap: 12px;\n",
              "    }\n",
              "\n",
              "    .colab-df-convert {\n",
              "      background-color: #E8F0FE;\n",
              "      border: none;\n",
              "      border-radius: 50%;\n",
              "      cursor: pointer;\n",
              "      display: none;\n",
              "      fill: #1967D2;\n",
              "      height: 32px;\n",
              "      padding: 0 0 0 0;\n",
              "      width: 32px;\n",
              "    }\n",
              "\n",
              "    .colab-df-convert:hover {\n",
              "      background-color: #E2EBFA;\n",
              "      box-shadow: 0px 1px 2px rgba(60, 64, 67, 0.3), 0px 1px 3px 1px rgba(60, 64, 67, 0.15);\n",
              "      fill: #174EA6;\n",
              "    }\n",
              "\n",
              "    .colab-df-buttons div {\n",
              "      margin-bottom: 4px;\n",
              "    }\n",
              "\n",
              "    [theme=dark] .colab-df-convert {\n",
              "      background-color: #3B4455;\n",
              "      fill: #D2E3FC;\n",
              "    }\n",
              "\n",
              "    [theme=dark] .colab-df-convert:hover {\n",
              "      background-color: #434B5C;\n",
              "      box-shadow: 0px 1px 3px 1px rgba(0, 0, 0, 0.15);\n",
              "      filter: drop-shadow(0px 1px 2px rgba(0, 0, 0, 0.3));\n",
              "      fill: #FFFFFF;\n",
              "    }\n",
              "  </style>\n",
              "\n",
              "    <script>\n",
              "      const buttonEl =\n",
              "        document.querySelector('#df-19b521c9-3bd2-440d-91e0-caa4e9dcb9c6 button.colab-df-convert');\n",
              "      buttonEl.style.display =\n",
              "        google.colab.kernel.accessAllowed ? 'block' : 'none';\n",
              "\n",
              "      async function convertToInteractive(key) {\n",
              "        const element = document.querySelector('#df-19b521c9-3bd2-440d-91e0-caa4e9dcb9c6');\n",
              "        const dataTable =\n",
              "          await google.colab.kernel.invokeFunction('convertToInteractive',\n",
              "                                                    [key], {});\n",
              "        if (!dataTable) return;\n",
              "\n",
              "        const docLinkHtml = 'Like what you see? Visit the ' +\n",
              "          '<a target=\"_blank\" href=https://colab.research.google.com/notebooks/data_table.ipynb>data table notebook</a>'\n",
              "          + ' to learn more about interactive tables.';\n",
              "        element.innerHTML = '';\n",
              "        dataTable['output_type'] = 'display_data';\n",
              "        await google.colab.output.renderOutput(dataTable, element);\n",
              "        const docLink = document.createElement('div');\n",
              "        docLink.innerHTML = docLinkHtml;\n",
              "        element.appendChild(docLink);\n",
              "      }\n",
              "    </script>\n",
              "  </div>\n",
              "\n",
              "\n",
              "<div id=\"df-054e860c-652d-4f8c-929e-f998b5c210e7\">\n",
              "  <button class=\"colab-df-quickchart\" onclick=\"quickchart('df-054e860c-652d-4f8c-929e-f998b5c210e7')\"\n",
              "            title=\"Suggest charts\"\n",
              "            style=\"display:none;\">\n",
              "\n",
              "<svg xmlns=\"http://www.w3.org/2000/svg\" height=\"24px\"viewBox=\"0 0 24 24\"\n",
              "     width=\"24px\">\n",
              "    <g>\n",
              "        <path d=\"M19 3H5c-1.1 0-2 .9-2 2v14c0 1.1.9 2 2 2h14c1.1 0 2-.9 2-2V5c0-1.1-.9-2-2-2zM9 17H7v-7h2v7zm4 0h-2V7h2v10zm4 0h-2v-4h2v4z\"/>\n",
              "    </g>\n",
              "</svg>\n",
              "  </button>\n",
              "\n",
              "<style>\n",
              "  .colab-df-quickchart {\n",
              "      --bg-color: #E8F0FE;\n",
              "      --fill-color: #1967D2;\n",
              "      --hover-bg-color: #E2EBFA;\n",
              "      --hover-fill-color: #174EA6;\n",
              "      --disabled-fill-color: #AAA;\n",
              "      --disabled-bg-color: #DDD;\n",
              "  }\n",
              "\n",
              "  [theme=dark] .colab-df-quickchart {\n",
              "      --bg-color: #3B4455;\n",
              "      --fill-color: #D2E3FC;\n",
              "      --hover-bg-color: #434B5C;\n",
              "      --hover-fill-color: #FFFFFF;\n",
              "      --disabled-bg-color: #3B4455;\n",
              "      --disabled-fill-color: #666;\n",
              "  }\n",
              "\n",
              "  .colab-df-quickchart {\n",
              "    background-color: var(--bg-color);\n",
              "    border: none;\n",
              "    border-radius: 50%;\n",
              "    cursor: pointer;\n",
              "    display: none;\n",
              "    fill: var(--fill-color);\n",
              "    height: 32px;\n",
              "    padding: 0;\n",
              "    width: 32px;\n",
              "  }\n",
              "\n",
              "  .colab-df-quickchart:hover {\n",
              "    background-color: var(--hover-bg-color);\n",
              "    box-shadow: 0 1px 2px rgba(60, 64, 67, 0.3), 0 1px 3px 1px rgba(60, 64, 67, 0.15);\n",
              "    fill: var(--button-hover-fill-color);\n",
              "  }\n",
              "\n",
              "  .colab-df-quickchart-complete:disabled,\n",
              "  .colab-df-quickchart-complete:disabled:hover {\n",
              "    background-color: var(--disabled-bg-color);\n",
              "    fill: var(--disabled-fill-color);\n",
              "    box-shadow: none;\n",
              "  }\n",
              "\n",
              "  .colab-df-spinner {\n",
              "    border: 2px solid var(--fill-color);\n",
              "    border-color: transparent;\n",
              "    border-bottom-color: var(--fill-color);\n",
              "    animation:\n",
              "      spin 1s steps(1) infinite;\n",
              "  }\n",
              "\n",
              "  @keyframes spin {\n",
              "    0% {\n",
              "      border-color: transparent;\n",
              "      border-bottom-color: var(--fill-color);\n",
              "      border-left-color: var(--fill-color);\n",
              "    }\n",
              "    20% {\n",
              "      border-color: transparent;\n",
              "      border-left-color: var(--fill-color);\n",
              "      border-top-color: var(--fill-color);\n",
              "    }\n",
              "    30% {\n",
              "      border-color: transparent;\n",
              "      border-left-color: var(--fill-color);\n",
              "      border-top-color: var(--fill-color);\n",
              "      border-right-color: var(--fill-color);\n",
              "    }\n",
              "    40% {\n",
              "      border-color: transparent;\n",
              "      border-right-color: var(--fill-color);\n",
              "      border-top-color: var(--fill-color);\n",
              "    }\n",
              "    60% {\n",
              "      border-color: transparent;\n",
              "      border-right-color: var(--fill-color);\n",
              "    }\n",
              "    80% {\n",
              "      border-color: transparent;\n",
              "      border-right-color: var(--fill-color);\n",
              "      border-bottom-color: var(--fill-color);\n",
              "    }\n",
              "    90% {\n",
              "      border-color: transparent;\n",
              "      border-bottom-color: var(--fill-color);\n",
              "    }\n",
              "  }\n",
              "</style>\n",
              "\n",
              "  <script>\n",
              "    async function quickchart(key) {\n",
              "      const quickchartButtonEl =\n",
              "        document.querySelector('#' + key + ' button');\n",
              "      quickchartButtonEl.disabled = true;  // To prevent multiple clicks.\n",
              "      quickchartButtonEl.classList.add('colab-df-spinner');\n",
              "      try {\n",
              "        const charts = await google.colab.kernel.invokeFunction(\n",
              "            'suggestCharts', [key], {});\n",
              "      } catch (error) {\n",
              "        console.error('Error during call to suggestCharts:', error);\n",
              "      }\n",
              "      quickchartButtonEl.classList.remove('colab-df-spinner');\n",
              "      quickchartButtonEl.classList.add('colab-df-quickchart-complete');\n",
              "    }\n",
              "    (() => {\n",
              "      let quickchartButtonEl =\n",
              "        document.querySelector('#df-054e860c-652d-4f8c-929e-f998b5c210e7 button');\n",
              "      quickchartButtonEl.style.display =\n",
              "        google.colab.kernel.accessAllowed ? 'block' : 'none';\n",
              "    })();\n",
              "  </script>\n",
              "</div>\n",
              "\n",
              "    </div>\n",
              "  </div>\n"
            ],
            "application/vnd.google.colaboratory.intrinsic+json": {
              "type": "dataframe",
              "variable_name": "data",
              "summary": "{\n  \"name\": \"data\",\n  \"rows\": 128,\n  \"fields\": [\n    {\n      \"column\": \"review_text\",\n      \"properties\": {\n        \"dtype\": \"string\",\n        \"num_unique_values\": 128,\n        \"samples\": [\n          \"I use it a lot for reminders and alarms - for work toBe done by kids / their class schedules etcMy kids use it for playing musicMy maid uses it for swatting reminder to switch of motor \\ud83d\\ude00So all in all it\\u2019s become a very useful tool in the houseBut Amazon should expand its music library.. lot of songs still not played by Alexa as it\\u2019s not there in the music library of amazon music\",\n          \"Booked on 19th October with delivery date of 23rd October and now it shows 31st october, While many of my friends booked on 22nd October and received within 24hrs, My question is to Amazon management that, How did they deliver the products and everyday delivery date are getting changed. Please explain it, What is the benefits of pre order of product ....... Not happy with amazon ................ Stop making fool to customers please,,,, Do not forget that your business platform is customer based only. So don't try to manipulate with customers ..........\",\n          \"I have learned from this purchase that never prebook anything on Amazon. I ordered it on 19th October and it stated estimated delivery date of 23rd to 31st October. So i thought it shal get delivered by 24th or 25th October max but now it is showing 31st October. Whereas people who bought it after the launch date got it delivered in one day. And if i am looking to order now it is showing max 2 days of delivery time. Pathetic service from Amazon. Never ever prebook anything from Amazon.\"\n        ],\n        \"semantic_type\": \"\",\n        \"description\": \"\"\n      }\n    }\n  ]\n}"
            }
          },
          "metadata": {},
          "execution_count": 7
        }
      ],
      "source": [
        "data = pd.read_csv('data_set.csv')\n",
        "data.head()"
      ]
    },
    {
      "cell_type": "markdown",
      "metadata": {
        "id": "xOanzHPo19Od"
      },
      "source": [
        "## 2.1  Clean and Pre-process the data.  \n",
        "\n",
        "Steps:\n",
        "- Tokenize\n",
        "- Case conversion to Lower Case\n",
        "- Removing Punctuation & Stopwords\n",
        "- Stemming & Lemmatization\n"
      ]
    },
    {
      "cell_type": "code",
      "execution_count": 22,
      "metadata": {
        "id": "AtiPiBZwrQ3c"
      },
      "outputs": [],
      "source": [
        " import string\n",
        " noise = string.punctuation\n",
        "\n",
        " # Lower the Case & Punctuation Removal\n",
        " def clean_text(text):\n",
        "  text = text.lower() # Converting the text into the Lower Case\n",
        "  words = text.split()\n",
        "  cleansed = [word for word in words if word not in noise]\n",
        "  return \" \".join(cleansed)"
      ]
    },
    {
      "cell_type": "code",
      "source": [
        "data[\"new_text\"] = data.review_text.apply(clean_text)"
      ],
      "metadata": {
        "id": "_jmR2I22z_2J"
      },
      "execution_count": 23,
      "outputs": []
    },
    {
      "cell_type": "code",
      "source": [
        "# Stopwords\n",
        "\n",
        "import nltk\n",
        "from nltk.corpus import stopwords\n",
        "nltk.download('stopwords')\n",
        "stop_words = stopwords.words('english')\n",
        "\n",
        "def remove_stopwords(text):\n",
        "  words = text.split()\n",
        "  cleansed = [word for word in words if word not in stop_words]\n",
        "  return \" \".join(cleansed)\n",
        "\n",
        "data[\"new_text\"] = data.new_text.apply(remove_stopwords)"
      ],
      "metadata": {
        "colab": {
          "base_uri": "https://localhost:8080/"
        },
        "id": "RhwGCNQL05FZ",
        "outputId": "a29fb09d-a153-4536-fb77-64d21c8ff9ba"
      },
      "execution_count": 24,
      "outputs": [
        {
          "output_type": "stream",
          "name": "stderr",
          "text": [
            "[nltk_data] Downloading package stopwords to /root/nltk_data...\n",
            "[nltk_data]   Package stopwords is already up-to-date!\n"
          ]
        }
      ]
    },
    {
      "cell_type": "code",
      "source": [
        "# Lemmatization\n",
        "from nltk.stem import WordNetLemmatizer\n",
        "nltk.download(\"punkt\")\n",
        "nltk.download(\"wordnet\")\n",
        "\n",
        "lemma = WordNetLemmatizer()\n",
        "\n",
        "def lemmatize(text):\n",
        "  tokens = nltk.word_tokenize(text)\n",
        "  lemmatized = [lemma.lemmatize(token) for token in tokens]\n",
        "  return \" \".join(lemmatized)\n",
        "\n",
        "data[\"new_text_lemma\"] = data.new_text.apply(lemmatize)"
      ],
      "metadata": {
        "colab": {
          "base_uri": "https://localhost:8080/"
        },
        "id": "-zEc4fkQ04-5",
        "outputId": "62986f90-2856-432d-e780-b27495234acc"
      },
      "execution_count": 25,
      "outputs": [
        {
          "output_type": "stream",
          "name": "stderr",
          "text": [
            "[nltk_data] Downloading package punkt to /root/nltk_data...\n",
            "[nltk_data]   Package punkt is already up-to-date!\n",
            "[nltk_data] Downloading package wordnet to /root/nltk_data...\n",
            "[nltk_data]   Package wordnet is already up-to-date!\n"
          ]
        }
      ]
    },
    {
      "cell_type": "code",
      "source": [
        "# Clean the Data end to end...\n",
        "\n",
        "# Find th hyperlinks in the text\n",
        "import re\n",
        "def find_links(text):\n",
        "  pattern = \"[https?://S+|www\\.\\S+]\"\n",
        "  weblinks = re.findall(pattern, text)\n",
        "  return weblinks"
      ],
      "metadata": {
        "id": "_BPMlg6l03fC"
      },
      "execution_count": 32,
      "outputs": []
    },
    {
      "cell_type": "code",
      "source": [
        "# Emoticons\n",
        "def remove_emoticons(text):\n",
        "    emoticon_pattern = re.compile(\n",
        "        r'('\n",
        "        r'[\\U0001F600-\\U0001F64F]'  # emoticons\n",
        "        r'|[\\U0001F300-\\U0001F5FF]'  # symbols & pictographs\n",
        "        r'|[\\U0001F680-\\U0001F6FF]'  # transport & map symbols\n",
        "        r'|[\\U0001F1E0-\\U0001F1FF]'  # flags (iOS)\n",
        "        r'|[\\U00002500-\\U00002BEF]'  # chinese char\n",
        "        r'|[\\U00002702-\\U000027B0]'\n",
        "        r'|[\\U00002702-\\U000027B0]'\n",
        "        r'|[\\U000024C2-\\U0001F251]'\n",
        "        r'|[\\U0001f926-\\U0001f937]'\n",
        "        r'|[\\U00010000-\\U0010ffff]'\n",
        "        r'|[\\u2640-\\u2642]'\n",
        "        r'|[\\u2600-\\u2B55]'\n",
        "        r'|[\\u200d]'\n",
        "        r'|[\\u23cf]'\n",
        "        r'|[\\u23e9]'\n",
        "        r'|[\\u231a]'\n",
        "        r'|[\\ufe0f]'                # dingbats\n",
        "        r'|[\\u3030]'\n",
        "        r')', flags=re.UNICODE)\n",
        "    return emoticon_pattern.sub(r'', text)"
      ],
      "metadata": {
        "id": "AX6oxLlg7g6q"
      },
      "execution_count": 33,
      "outputs": []
    },
    {
      "cell_type": "code",
      "source": [
        "data[\"new_text\"] = data.new_text.apply(remove_emoticons)\n",
        "data[\"new_text_lemma\"] = data.new_text_lemma.apply(remove_emoticons)"
      ],
      "metadata": {
        "id": "5S04QfcN8gPI"
      },
      "execution_count": 36,
      "outputs": []
    },
    {
      "cell_type": "code",
      "source": [
        "data[\"new_text_lemma\"] = data.new_text_lemma.apply(clean_text)\n",
        "#data.head()"
      ],
      "metadata": {
        "id": "uGK4zxui83hH"
      },
      "execution_count": 40,
      "outputs": []
    },
    {
      "cell_type": "markdown",
      "metadata": {
        "id": "VE7EMm5GVrMI"
      },
      "source": [
        "## Question : 3 (Marks  15)\n",
        "\n",
        "### 3.1 On the cleaned text data, perform a Sentiment analysis to understand the emotion of the individual reviews as well as the  overall review. (using textblob)\n",
        "\n",
        "Steps:\n",
        "- Assign the subjetivity response to the content\n",
        "- Assign the polarity response to the content\n",
        "- Assign sentiment to the content\n",
        "- Visualize the frequency distribution of the sentiment on each content\n"
      ]
    },
    {
      "cell_type": "code",
      "execution_count": 46,
      "metadata": {
        "id": "KlhMgRLNj73f"
      },
      "outputs": [],
      "source": [
        "#!pip install textblob\n",
        "from textblob import TextBlob\n",
        "\n",
        "def get_sentiment(text):\n",
        "  blob = TextBlob(text)\n",
        "  sentiment = blob.sentiment.polarity\n",
        "  return sentiment\n",
        "\n",
        "  # get sentiment subectivity\n",
        "def get_subjectivity(text):\n",
        "  blob = TextBlob(text)\n",
        "  sub = blob.sentiment.subjectivity\n",
        "  return sub"
      ]
    },
    {
      "cell_type": "code",
      "execution_count": 48,
      "metadata": {
        "id": "vXtd-l-aj73f"
      },
      "outputs": [],
      "source": [
        "# Assign the subjetivity response to the content\n",
        "data[\"subjectivity\"] = data[\"new_text_lemma\"].apply(get_subjectivity)"
      ]
    },
    {
      "cell_type": "code",
      "execution_count": 51,
      "metadata": {
        "id": "ikP7xpjOj73g"
      },
      "outputs": [],
      "source": [
        "# Assign the polarity response to the content\n",
        "data[\"polarity\"] = data[\"new_text_lemma\"].apply(get_sentiment)"
      ]
    },
    {
      "cell_type": "code",
      "execution_count": 53,
      "metadata": {
        "id": "rpsfzKjGj73g"
      },
      "outputs": [],
      "source": [
        "# Assing sentiment to the content using polity\n",
        "data.polarity.describe()\n",
        "\n",
        "# Positive Sentiment (1) for polarity > 0\n",
        "# Negative Sentiment (-1) for polarity < 0\n",
        "# Neutral Sentiment (0) for polarity  = 0\n",
        "\n",
        "def get_sentiment(score):\n",
        "  if score > 0:\n",
        "    return 1\n",
        "  elif score < 0:\n",
        "    return -1\n",
        "  else:\n",
        "    return 0\n",
        "\n",
        "data[\"target\"] = data.polarity.apply(get_sentiment)"
      ]
    },
    {
      "cell_type": "code",
      "execution_count": 57,
      "metadata": {
        "id": "R18U7g2Oj73g",
        "colab": {
          "base_uri": "https://localhost:8080/",
          "height": 467
        },
        "outputId": "99cec617-ded2-4739-e71a-59fb2c8a8e5e"
      },
      "outputs": [
        {
          "output_type": "execute_result",
          "data": {
            "text/plain": [
              "<Axes: xlabel='target'>"
            ]
          },
          "metadata": {},
          "execution_count": 57
        },
        {
          "output_type": "display_data",
          "data": {
            "text/plain": [
              "<Figure size 640x480 with 1 Axes>"
            ],
            "image/png": "[encoded data removed]"
          },
          "metadata": {}
        }
      ],
      "source": [
        "# Visualize the frequency distribution of the sentiment on each content\n",
        "data.target.value_counts().plot(kind = \"bar\")"
      ]
    },
    {
      "cell_type": "markdown",
      "metadata": {
        "id": "Kl42t4HzKUgV"
      },
      "source": [
        "## Question 4.  (Marks 10)\n",
        "## Find the TF-IDF   values of the words 'smart' and 'clear' in the first record  of the given dataset  "
      ]
    },
    {
      "cell_type": "code",
      "execution_count": 60,
      "metadata": {
        "id": "BSSSOKOmrQ3e"
      },
      "outputs": [],
      "source": [
        "#vectorizer = TfidfVectorizer()\n"
      ]
    },
    {
      "cell_type": "code",
      "execution_count": 70,
      "metadata": {
        "id": "Ge8iWSX8rQ3e"
      },
      "outputs": [],
      "source": [
        " # Pull the tf-idf Vectorizer\n",
        "from sklearn.feature_extraction.text import TfidfVectorizer\n",
        "\n",
        "vectorizer = TfidfVectorizer()\n",
        "\n",
        "X = vectorizer.fit_transform(pd.Series(data.new_text_lemma[0]))\n",
        "\n",
        "# Feature Names\n",
        "names = vectorizer.get_feature_names_out()\n",
        "tfidf_df = pd.DataFrame(X.toarray(), columns = names)\n"
      ]
    },
    {
      "cell_type": "code",
      "execution_count": 76,
      "metadata": {
        "id": "nIdzBXMEj73h",
        "colab": {
          "base_uri": "https://localhost:8080/"
        },
        "outputId": "f63e1eb4-5ff5-48e7-ea9f-e51de24278bf"
      },
      "outputs": [
        {
          "output_type": "stream",
          "name": "stdout",
          "text": [
            "True\n",
            "False\n"
          ]
        }
      ],
      "source": [
        "print(\"smart\" in tfidf_df.columns)\n",
        "print(\"clear\" in tfidf_df.columns)\n",
        "\n",
        "# What is the tf-idf value???\n",
        "# Since we know that smart exists in the data where as clear does not exist in the data\n",
        "# Having said that, the frequency for clear will be 0\n",
        "# Thus, while calculaing the tf*idf, anything multiplied by 0 will return 0\n",
        "# Thus, the tf-df value for Smart and clear would be 0.\n"
      ]
    },
    {
      "cell_type": "code",
      "execution_count": null,
      "metadata": {
        "id": "tCwUONe_j73h"
      },
      "outputs": [],
      "source": [
        ""
      ]
    },
    {
      "cell_type": "code",
      "execution_count": null,
      "metadata": {
        "id": "BRWBmcC9rQ3e"
      },
      "outputs": [],
      "source": [
        ""
      ]
    }
  ],
  "metadata": {
    "colab": {
      "provenance": [],
      "include_colab_link": true
    },
    "kernelspec": {
      "display_name": "Python 3 (ipykernel)",
      "language": "python",
      "name": "python3"
    },
    "language_info": {
      "codemirror_mode": {
        "name": "ipython",
        "version": 3
      },
      "file_extension": ".py",
      "mimetype": "text/x-python",
      "name": "python",
      "nbconvert_exporter": "python",
      "pygments_lexer": "ipython3",
      "version": "3.11.4"
    }
  },
  "nbformat": 4,
  "nbformat_minor": 0
}